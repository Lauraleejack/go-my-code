{
  "nbformat": 4,
  "nbformat_minor": 0,
  "metadata": {
    "colab": {
      "provenance": [],
      "authorship_tag": "ABX9TyP9+wf0BQekKI5abwduiOZP",
      "include_colab_link": true
    },
    "kernelspec": {
      "name": "python3",
      "display_name": "Python 3"
    },
    "language_info": {
      "name": "python"
    }
  },
  "cells": [
    {
      "cell_type": "markdown",
      "metadata": {
        "id": "view-in-github",
        "colab_type": "text"
      },
      "source": [
        "<a href=\"https://colab.research.google.com/github/Lauraleejack/go-my-code/blob/main/Unsupervised_association_rules.ipynb\" target=\"_parent\"><img src=\"https://colab.research.google.com/assets/colab-badge.svg\" alt=\"Open In Colab\"/></a>"
      ]
    },
    {
      "cell_type": "code",
      "execution_count": null,
      "metadata": {
        "id": "b42sTLAbF8HT"
      },
      "outputs": [],
      "source": []
    },
    {
      "cell_type": "markdown",
      "source": [
        "What You're Aiming For\n",
        "\n",
        "In this checkpoint, we are going to work on 'Customer purchases history' dataset provided by Kaggle\n",
        "\n",
        "Dataset description: This dataset contains historical records for customer purchases from a supermarket X. The objective is to find the association rules to help supermarket owners find new marketing plans to improve their sales.\n",
        "\n",
        "➡️ Dataset link\n",
        "\n",
        "🚧 Each row correspond to one purchase\n",
        "\n",
        "https://i.imgur.com/uYpSaHm.png\n",
        "\n",
        "\n",
        "Instructions\n",
        "\n",
        "toy_dataset = [['Skirt', 'Sneakers', 'Scarf', 'Pants', 'Hat'],\n",
        "\n",
        "        ['Sunglasses', 'Skirt', 'Sneakers', 'Pants', 'Hat'],\n",
        "\n",
        "        ['Dress', 'Sandals', 'Scarf', 'Pants', 'Heels'],\n",
        "\n",
        "        ['Dress', 'Necklace', 'Earrings', 'Scarf', 'Hat', 'Heels', 'Hat'],\n",
        "\n",
        "      ['Earrings', 'Skirt', 'Skirt', 'Scarf', 'Shirt', 'Pants']]\n",
        "\n",
        "Run the apriori algorithm on the provided toy_dataset. Interpret the results.\n",
        "Try to explore the checkpoint dataset using Pandas and Plotly.\n",
        "Run the apriori algorithm on checkpoint dataset. Interpret the results and suggest a clear business plan to the supermarket owners based on your findings."
      ],
      "metadata": {
        "id": "3PKE8r_Zv7yP"
      }
    }
  ]
}