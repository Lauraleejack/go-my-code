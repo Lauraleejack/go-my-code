{
  "nbformat": 4,
  "nbformat_minor": 0,
  "metadata": {
    "colab": {
      "provenance": [],
      "authorship_tag": "ABX9TyOk1uGKCevuHSQ2i+avlbT4",
      "include_colab_link": true
    },
    "kernelspec": {
      "name": "python3",
      "display_name": "Python 3"
    },
    "language_info": {
      "name": "python"
    }
  },
  "cells": [
    {
      "cell_type": "markdown",
      "metadata": {
        "id": "view-in-github",
        "colab_type": "text"
      },
      "source": [
        "<a href=\"https://colab.research.google.com/github/Lauraleejack/go-my-code/blob/main/API_to_Pandas_Dataframe_checkpoint.ipynb\" target=\"_parent\"><img src=\"https://colab.research.google.com/assets/colab-badge.svg\" alt=\"Open In Colab\"/></a>"
      ]
    },
    {
      "cell_type": "code",
      "execution_count": null,
      "metadata": {
        "id": "cBJXhV46yT5J"
      },
      "outputs": [],
      "source": []
    },
    {
      "cell_type": "markdown",
      "source": [
        "What You're Aiming For\n",
        "\n",
        "In this checkpoint, we are going to practice consuming public APIs through the NASA public APIs portal.\n",
        "\n",
        "Portal description : The objective of this portal is to make NASA data, including imagery, eminently accessible to application developers and data professionals. Before starting to use its APIs endpoints, it's mandatory that you generate your API KEY and store it somewhere for later use. The API key acts as the user identifier when requesting the API. To get your KEY, fill in the provided form with your personal information, and then we shall receive an email containing your personal API KEY.\n",
        "\n",
        "➡️ NASA API PORTAL\n",
        "\n",
        "https://i.imgur.com/hisTmpk.png\n",
        "\n",
        "\n",
        "\n",
        "\n",
        "Instructions\n",
        "\n",
        "Go to the NASA API portal and generate your API KEY\n",
        "Import the requests package and store your API KEY in variable\n",
        "Go back to portal website and click on 'browse APIs'\n",
        "Click on the first dropdown menu, named 'APOD' and read its documentation\n",
        "Follow the provided documentation to ask the API endpoint for the astronomy picture of the day. Get then display the image on your notebook.\n",
        "Go through the list of the provided API endpoints once again and select 'Astronomy Picture of the Day' option. Store the results in a pandas dataframe\n",
        "Do the necessary data pre-processing tasks on the previous result in order to get a clean dataframe with the following columns :\n",
        "Asteroid ID\n",
        "Asteroid name\n",
        "The Minimal estimated diameter in Kilometre\n",
        "Absolute_magnitude\n",
        "Relative_velocity(km/s)\n",
        "Try to export the new dataframe into a CSV file and share it with your colleagues"
      ],
      "metadata": {
        "id": "Uau8h5skyVvz"
      }
    }
  ]
}