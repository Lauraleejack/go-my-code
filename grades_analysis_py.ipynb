{
  "nbformat": 4,
  "nbformat_minor": 0,
  "metadata": {
    "colab": {
      "provenance": [],
      "authorship_tag": "ABX9TyOvKK4IKxgNngrlUujLd0o3",
      "include_colab_link": true
    },
    "kernelspec": {
      "name": "python3",
      "display_name": "Python 3"
    },
    "language_info": {
      "name": "python"
    }
  },
  "cells": [
    {
      "cell_type": "markdown",
      "metadata": {
        "id": "view-in-github",
        "colab_type": "text"
      },
      "source": [
        "<a href=\"https://colab.research.google.com/github/Lauraleejack/go-my-code/blob/main/grades_analysis_py.ipynb\" target=\"_parent\"><img src=\"https://colab.research.google.com/assets/colab-badge.svg\" alt=\"Open In Colab\"/></a>"
      ]
    },
    {
      "cell_type": "code",
      "execution_count": 9,
      "metadata": {
        "colab": {
          "base_uri": "https://localhost:8080/"
        },
        "id": "iM6bK9PjCDRx",
        "outputId": "51830f56-9148-4b01-851e-95c5ae7c05e5"
      },
      "outputs": [
        {
          "output_type": "stream",
          "name": "stdout",
          "text": [
            "mean grade: 87.5\n",
            "median grade: 88.5\n",
            "standard deviation: 6.591661399070799\n",
            "[75 80 83 85 88 89 90 92 95 98]\n",
            "7\n",
            "3\n",
            "30.0\n",
            "0.0\n",
            "[92 95 98]\n",
            "[85 90 88 92 95 80 98 89 83]\n"
          ]
        }
      ],
      "source": [
        "#this is program for a grade analysis for students\n",
        "import numpy as np\n",
        "\n",
        "grades = np.array([85, 90, 88, 92, 95, 80, 75, 98, 89, 83])\n",
        "mean_grade = np.mean(grades)\n",
        "median_grade = np.median(grades)\n",
        "stan_grade = np.std(grades)\n",
        "\n",
        "print(\"mean grade:\", mean_grade)\n",
        "print(\"median grade:\", median_grade)\n",
        "print(\"standard deviation:\", stan_grade)\n",
        "\n",
        "# Finding the max and min grades\n",
        "max_gr = np.max(grades)\n",
        "min_gr = np.min(grades)\n",
        "\n",
        "sgrades = np.sort(grades)\n",
        "print(sgrades)\n",
        "\n",
        "high_grd=np.argmax(grades)\n",
        "print(high_grd)\n",
        "\n",
        "stud_90 = np.sum(grades > 90)\n",
        "print(stud_90)\n",
        "\n",
        "abv_90 = np.mean(grades > 90) * 100\n",
        "print(abv_90)\n",
        "\n",
        "perc_below75 = np.mean(grades < 75) * 100\n",
        "print(perc_below75)\n",
        "\n",
        "high_performers = grades[grades > 90]\n",
        "print(high_performers)\n",
        "\n",
        "passing_grades = grades[grades > 75]\n",
        "print(passing_grades)"
      ]
    }
  ]
}