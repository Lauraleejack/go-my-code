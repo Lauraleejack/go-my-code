{
  "nbformat": 4,
  "nbformat_minor": 0,
  "metadata": {
    "colab": {
      "provenance": [],
      "authorship_tag": "ABX9TyPG1gjMWsaxciw8te3JyQL9",
      "include_colab_link": true
    },
    "kernelspec": {
      "name": "python3",
      "display_name": "Python 3"
    },
    "language_info": {
      "name": "python"
    }
  },
  "cells": [
    {
      "cell_type": "markdown",
      "metadata": {
        "id": "view-in-github",
        "colab_type": "text"
      },
      "source": [
        "<a href=\"https://colab.research.google.com/github/Lauraleejack/go-my-code/blob/main/Artificial_Neural_Network_Checkpoint.ipynb\" target=\"_parent\"><img src=\"https://colab.research.google.com/assets/colab-badge.svg\" alt=\"Open In Colab\"/></a>"
      ]
    },
    {
      "cell_type": "code",
      "execution_count": null,
      "metadata": {
        "id": "uGK1B4-hw_G1"
      },
      "outputs": [],
      "source": [
        "What You're Aiming For\n",
        "\n",
        "In this practical, we will implement and train a feed-forward neural network (also known as an \"MLP\" for \"multi-layer perceptron\") on a dataset called \"Fashion MNIST\", which consist of small greyscale images of items of fashion.\n",
        "\n",
        "\n",
        "Instructions\n",
        "\n",
        "Follow the steps In this Jupyter  file.\n",
        "Replace instances of 'None' and \"Code Here\"with your code.\n",
        "Please make sure it's a public shareable link.\n",
        "\n",
        "How We'll Evaluate\n",
        "\n",
        "Your checkpoint will be evaluated based on these criteria, each rated from 0 to 5.\n",
        "\n",
        "Checkpoint Assessment\n",
        "\n",
        "Your Tech Skills\n",
        "Quality of Work\n",
        "Problem-Solving Skills\n",
        "Deadline Alert: (0 score if missed)"
      ]
    }
  ]
}