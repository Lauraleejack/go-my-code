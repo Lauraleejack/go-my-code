{
  "nbformat": 4,
  "nbformat_minor": 0,
  "metadata": {
    "colab": {
      "provenance": [],
      "authorship_tag": "ABX9TyMvrJyyisoPTVRumdf5eCIV",
      "include_colab_link": true
    },
    "kernelspec": {
      "name": "python3",
      "display_name": "Python 3"
    },
    "language_info": {
      "name": "python"
    }
  },
  "cells": [
    {
      "cell_type": "markdown",
      "metadata": {
        "id": "view-in-github",
        "colab_type": "text"
      },
      "source": [
        "<a href=\"https://colab.research.google.com/github/Lauraleejack/go-my-code/blob/main/python_features_checkpoint1.ipynb\" target=\"_parent\"><img src=\"https://colab.research.google.com/assets/colab-badge.svg\" alt=\"Open In Colab\"/></a>"
      ]
    },
    {
      "cell_type": "code",
      "execution_count": null,
      "metadata": {
        "colab": {
          "base_uri": "https://localhost:8080/"
        },
        "id": "8lhxdtvfjFfF",
        "outputId": "325bc59b-2aca-4c25-fd06-7e17ede2c8a2"
      },
      "outputs": [
        {
          "output_type": "stream",
          "name": "stdout",
          "text": [
            "select operation\n",
            "1.add\n",
            "2.subtract\n",
            "3.multiply\n",
            "4.divide\n",
            "input your operation (1/2/3/4):1\n",
            "enter first number:1\n",
            "enter second number:2\n",
            "1.0 + 2.0 = 3.0\n",
            "would you like to calculate again?(yes/no):yes\n",
            "input your operation (1/2/3/4):5\n",
            "invalid\n",
            "input your operation (1/2/3/4):4\n",
            "enter first number:3\n",
            "enter second number:2\n",
            "3.0 / 2.0 = 1.5\n"
          ]
        }
      ],
      "source": [
        "def add(num1, num2):\n",
        "  return num1 + num2\n",
        "\n",
        "def subtract(num1, num2):\n",
        "  return num1 - num2\n",
        "\n",
        "def multiply(num1, num2):\n",
        "  return num1 * num2\n",
        "\n",
        "def divide(num1, num2):\n",
        "  return num1 / num2\n",
        "\n",
        "operations = {\n",
        "  \"+\": add,\n",
        "  \"-\": subtract,\n",
        "  \"*\": multiply,\n",
        "  \"/\": divide\n",
        "}\n",
        "print(\"select operation\")\n",
        "print(\"1.add\")\n",
        "print(\"2.subtract\")\n",
        "print(\"3.multiply\")\n",
        "print(\"4.divide\")\n",
        "\n",
        "while True:\n",
        "  choice=input(\"input your operation (1/2/3/4):\")\n",
        "\n",
        "  if choice in ('1','2','3','4'):\n",
        "    try:\n",
        "      num1=float(input(\"enter first number:\"))\n",
        "      num2=float(input(\"enter second number:\"))\n",
        "    except ValueError:\n",
        "      print(\"invalid number\")\n",
        "      continue\n",
        "\n",
        "    if choice=='1':\n",
        "      print(num1,\"+\",num2,\"=\",add(num1,num2))\n",
        "    elif choice=='2':\n",
        "      print(num1,\"-\",num2,\"=\",subtract(num1,num2))\n",
        "    elif choice=='3':\n",
        "      print(num1,\"*\",num2,\"=\",multiply(num1,num2))\n",
        "    elif choice=='4':\n",
        "      print(num1,\"/\",num2,\"=\",divide(num1,num2))\n",
        "\n",
        "    next_calc=input(\"would you like to calculate again?(yes/no):\")\n",
        "    if next_calc==\"no\":\n",
        "      break\n",
        "  else:\n",
        "      print(\"invalid\")"
      ]
    }
  ]
}