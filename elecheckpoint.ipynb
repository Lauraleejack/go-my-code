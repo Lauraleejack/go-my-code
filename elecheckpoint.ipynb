{
  "nbformat": 4,
  "nbformat_minor": 0,
  "metadata": {
    "colab": {
      "provenance": [],
      "authorship_tag": "ABX9TyOsivswHF7YPfwgYKW+YYOp",
      "include_colab_link": true
    },
    "kernelspec": {
      "name": "python3",
      "display_name": "Python 3"
    },
    "language_info": {
      "name": "python"
    }
  },
  "cells": [
    {
      "cell_type": "markdown",
      "metadata": {
        "id": "view-in-github",
        "colab_type": "text"
      },
      "source": [
        "<a href=\"https://colab.research.google.com/github/Lauraleejack/go-my-code/blob/main/elecheckpoint.ipynb\" target=\"_parent\"><img src=\"https://colab.research.google.com/assets/colab-badge.svg\" alt=\"Open In Colab\"/></a>"
      ]
    },
    {
      "cell_type": "code",
      "execution_count": null,
      "metadata": {
        "id": "qYahZbni6R3x",
        "colab": {
          "base_uri": "https://localhost:8080/"
        },
        "outputId": "1e0454a7-6fc3-4e77-a8b5-5cf6c4ac9c92"
      },
      "outputs": [
        {
          "output_type": "stream",
          "name": "stdout",
          "text": [
            "        client_id invoice_date  tarif_type  counter_number  counter_statue  \\\n",
            "0  train_Client_0   2014-03-24          11       1335667.0               0   \n",
            "1  train_Client_0   2013-03-29          11       1335667.0               0   \n",
            "2  train_Client_0   2015-03-23          11       1335667.0               0   \n",
            "3  train_Client_0   2015-07-13          11       1335667.0               0   \n",
            "4  train_Client_0   2016-11-17          11       1335667.0               0   \n",
            "5  train_Client_0   2017-07-17          11       1335667.0               0   \n",
            "6  train_Client_0   2018-12-07          11       1335667.0               0   \n",
            "7  train_Client_0   2019-03-19          11       1335667.0               0   \n",
            "8  train_Client_0   2011-07-22          11       1335667.0               0   \n",
            "9  train_Client_0   2011-11-22          11       1335667.0               0   \n",
            "\n",
            "   counter_code  reading_remarque  counter_coefficient  consommation_level_1  \\\n",
            "0           203               8.0                  1.0                  82.0   \n",
            "1           203               6.0                  1.0                1200.0   \n",
            "2           203               8.0                  1.0                 123.0   \n",
            "3           207               8.0                  1.0                 102.0   \n",
            "4           207               9.0                  1.0                 572.0   \n",
            "5           207               9.0                  1.0                 314.0   \n",
            "6           207               9.0                  1.0                 541.0   \n",
            "7           207               9.0                  1.0                 585.0   \n",
            "8           203               9.0                  1.0                1200.0   \n",
            "9           203               6.0                  1.0                1082.0   \n",
            "\n",
            "   consommation_level_2  consommation_level_3  consommation_level_4  \\\n",
            "0                   0.0                   0.0                   0.0   \n",
            "1                 184.0                   0.0                   0.0   \n",
            "2                   0.0                   0.0                   0.0   \n",
            "3                   0.0                   0.0                   0.0   \n",
            "4                   0.0                   0.0                   0.0   \n",
            "5                   0.0                   0.0                   0.0   \n",
            "6                   0.0                   0.0                   0.0   \n",
            "7                   0.0                   0.0                   0.0   \n",
            "8                 186.0                   0.0                   0.0   \n",
            "9                   0.0                   0.0                   0.0   \n",
            "\n",
            "   old_index  new_index  months_number counter_type  \n",
            "0    14302.0    14384.0            4.0         ELEC  \n",
            "1    12294.0    13678.0            4.0         ELEC  \n",
            "2    14624.0    14747.0            4.0         ELEC  \n",
            "3    14747.0    14849.0            4.0         ELEC  \n",
            "4    15066.0    15638.0           12.0         ELEC  \n",
            "5    15638.0    15952.0            8.0         ELEC  \n",
            "6    15952.0    16493.0           12.0         ELEC  \n",
            "7    16493.0    17078.0            8.0         ELEC  \n",
            "8     7770.0     9156.0            4.0         ELEC  \n",
            "9     9156.0    10238.0            4.0         ELEC  \n"
          ]
        }
      ],
      "source": [
        "import pandas as pd\n",
        "\n",
        "data = pd.read_csv('STEG_BILLING_HISTORY.csv')\n",
        "client_0_bills=(data.head(10))\n",
        "\n",
        "print(client_0_bills)\n"
      ]
    },
    {
      "cell_type": "code",
      "source": [
        "print(type(client_0_bills))"
      ],
      "metadata": {
        "colab": {
          "base_uri": "https://localhost:8080/"
        },
        "id": "2tjdR3Lo623H",
        "outputId": "5f78640d-affb-47b6-9a4c-abefdd121bce"
      },
      "execution_count": null,
      "outputs": [
        {
          "output_type": "stream",
          "name": "stdout",
          "text": [
            "<class 'pandas.core.frame.DataFrame'>\n"
          ]
        }
      ]
    },
    {
      "cell_type": "code",
      "source": [
        "\n",
        "print(\"rows:\", data.shape[0])\n"
      ],
      "metadata": {
        "colab": {
          "base_uri": "https://localhost:8080/"
        },
        "id": "duDh0hUK964z",
        "outputId": "581a60b5-14b3-493a-eb9b-560bbac4e526"
      },
      "execution_count": null,
      "outputs": [
        {
          "output_type": "stream",
          "name": "stdout",
          "text": [
            "rows: 90192\n"
          ]
        }
      ]
    },
    {
      "cell_type": "code",
      "source": [
        "print(\"columns:\", data.shape[1])"
      ],
      "metadata": {
        "colab": {
          "base_uri": "https://localhost:8080/"
        },
        "id": "MbRFe83e4eGF",
        "outputId": "d8c43a58-37c0-42a1-96f0-01b44f1a9632"
      },
      "execution_count": null,
      "outputs": [
        {
          "output_type": "stream",
          "name": "stdout",
          "text": [
            "columns: 16\n"
          ]
        }
      ]
    },
    {
      "cell_type": "code",
      "source": [
        "print(\"categorical features:\", len(data.select_dtypes(include=['object', 'category'])))"
      ],
      "metadata": {
        "colab": {
          "base_uri": "https://localhost:8080/"
        },
        "id": "syba8G254n5d",
        "outputId": "9b756ff4-38b9-4d66-9b6c-64d07c320fb9"
      },
      "execution_count": null,
      "outputs": [
        {
          "output_type": "stream",
          "name": "stdout",
          "text": [
            "categorical features: 12894\n"
          ]
        }
      ]
    },
    {
      "cell_type": "code",
      "source": [
        "print(\"Memory space:\", data.memory_usage(deep=True).sum())"
      ],
      "metadata": {
        "colab": {
          "base_uri": "https://localhost:8080/"
        },
        "id": "0KXqXxF445BK",
        "outputId": "c18b9233-da83-4315-d185-42fba63ae4d6"
      },
      "execution_count": null,
      "outputs": [
        {
          "output_type": "stream",
          "name": "stdout",
          "text": [
            "Memory space: 3965909\n"
          ]
        }
      ]
    },
    {
      "cell_type": "code",
      "source": [
        "# loc method is for labels\n",
        "client_0_bills_loc = data.loc[data['client_id'] == 'train_Client_0']\n",
        "\n",
        "#iloc method is for integer location\n",
        "#client_0_bills_iloc = data.iloc[data['client_id'] == 'train_Client_0'].reset_index(drop=True)\n",
        "#print(client_0_bills_loc.equals(client_0_bills_iloc))"
      ],
      "metadata": {
        "id": "QTzlq2RI57kR"
      },
      "execution_count": null,
      "outputs": []
    },
    {
      "cell_type": "code",
      "source": [
        "print(\"Missing values:\", data.isnull().sum())"
      ],
      "metadata": {
        "colab": {
          "base_uri": "https://localhost:8080/"
        },
        "id": "Ed84d9V74_MJ",
        "outputId": "c429c4f9-e971-417a-f5d2-5c92bd5b8e75"
      },
      "execution_count": null,
      "outputs": [
        {
          "output_type": "stream",
          "name": "stdout",
          "text": [
            "Missing values: client_id                0\n",
            "invoice_date             0\n",
            "tarif_type               0\n",
            "counter_number           0\n",
            "counter_statue           0\n",
            "counter_code             0\n",
            "reading_remarque        14\n",
            "counter_coefficient      1\n",
            "consommation_level_1     1\n",
            "consommation_level_2     1\n",
            "consommation_level_3     1\n",
            "consommation_level_4     1\n",
            "old_index                1\n",
            "new_index                1\n",
            "months_number            1\n",
            "counter_type             1\n",
            "dtype: int64\n"
          ]
        }
      ]
    },
    {
      "cell_type": "code",
      "source": [
        "print(data.describe(include='number'))"
      ],
      "metadata": {
        "colab": {
          "base_uri": "https://localhost:8080/"
        },
        "id": "6h386nE_5sxB",
        "outputId": "390d1cb4-4e49-4cb2-af80-b42fe19c4863"
      },
      "execution_count": null,
      "outputs": [
        {
          "output_type": "stream",
          "name": "stdout",
          "text": [
            "         tarif_type  counter_number  counter_statue  counter_code  \\\n",
            "count  90192.000000    9.019000e+04    90191.000000  90191.000000   \n",
            "mean      20.155280    9.600353e+10        0.041534    171.326862   \n",
            "std       13.470119    1.425568e+12        0.372351    132.648128   \n",
            "min        9.000000    0.000000e+00        0.000000      5.000000   \n",
            "25%       11.000000    1.248420e+05        0.000000      5.000000   \n",
            "50%       11.000000    5.074750e+05        0.000000    203.000000   \n",
            "75%       40.000000    1.145662e+06        0.000000    207.000000   \n",
            "max       45.000000    2.738110e+13        5.000000    506.000000   \n",
            "\n",
            "       reading_remarque  counter_coefficient  consommation_level_1  \\\n",
            "count      90109.000000              90191.0          90191.000000   \n",
            "mean           7.311068                  1.0            405.046313   \n",
            "std            1.358959                  0.0            657.440449   \n",
            "min            6.000000                  1.0              0.000000   \n",
            "25%            6.000000                  1.0             75.000000   \n",
            "50%            6.000000                  1.0            264.000000   \n",
            "75%            9.000000                  1.0            600.000000   \n",
            "max            9.000000                  1.0          93385.000000   \n",
            "\n",
            "       consommation_level_2  consommation_level_3  consommation_level_4  \\\n",
            "count          90191.000000          90191.000000          90191.000000   \n",
            "mean              95.142065             22.400350             44.253750   \n",
            "std              674.097903            368.364327            654.209152   \n",
            "min                0.000000              0.000000              0.000000   \n",
            "25%                0.000000              0.000000              0.000000   \n",
            "50%                0.000000              0.000000              0.000000   \n",
            "75%                0.000000              0.000000              0.000000   \n",
            "max            99398.000000          45360.000000          87776.000000   \n",
            "\n",
            "           old_index      new_index  months_number  \n",
            "count   90191.000000   90191.000000   90191.000000  \n",
            "mean    17122.108270   17711.619818      67.497455  \n",
            "std     39771.534237   40218.139214    1778.103735  \n",
            "min         0.000000       0.000000       1.000000  \n",
            "25%      1694.000000    1987.500000       4.000000  \n",
            "50%      7265.000000    7794.000000       4.000000  \n",
            "75%     20763.000000   21532.500000       4.000000  \n",
            "max    867253.000000  877022.000000   99104.000000  \n"
          ]
        }
      ]
    },
    {
      "cell_type": "code",
      "source": [
        "from sklearn.preprocessing import LabelEncoder\n",
        "encoder = LabelEncoder()\n",
        "data['counter_type_encoded'] = encoder.fit_transform(data['counter_type'])"
      ],
      "metadata": {
        "id": "mntUN3Qg7YWA"
      },
      "execution_count": null,
      "outputs": []
    },
    {
      "cell_type": "code",
      "source": [
        "data.drop(columns=['counter_statue'], inplace=True)"
      ],
      "metadata": {
        "id": "GXcBzApx7q87"
      },
      "execution_count": null,
      "outputs": []
    }
  ]
}