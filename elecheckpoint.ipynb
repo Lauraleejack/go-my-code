{
  "nbformat": 4,
  "nbformat_minor": 0,
  "metadata": {
    "colab": {
      "provenance": [],
      "authorship_tag": "ABX9TyOqOUB9p86bjTF+CWB9EmVA",
      "include_colab_link": true
    },
    "kernelspec": {
      "name": "python3",
      "display_name": "Python 3"
    },
    "language_info": {
      "name": "python"
    }
  },
  "cells": [
    {
      "cell_type": "markdown",
      "metadata": {
        "id": "view-in-github",
        "colab_type": "text"
      },
      "source": [
        "<a href=\"https://colab.research.google.com/github/Lauraleejack/go-my-code/blob/main/elecheckpoint.ipynb\" target=\"_parent\"><img src=\"https://colab.research.google.com/assets/colab-badge.svg\" alt=\"Open In Colab\"/></a>"
      ]
    },
    {
      "cell_type": "code",
      "execution_count": null,
      "metadata": {
        "id": "qYahZbni6R3x",
        "colab": {
          "base_uri": "https://localhost:8080/"
        },
        "outputId": "ce4a8eda-ab03-4b65-c82e-d5bc0bce6a4f"
      },
      "outputs": [
        {
          "output_type": "stream",
          "name": "stdout",
          "text": [
            "        client_id invoice_date  tarif_type  counter_number  counter_statue  \\\n",
            "0  train_Client_0   2014-03-24        11.0       1335667.0             0.0   \n",
            "1  train_Client_0   2013-03-29        11.0       1335667.0             0.0   \n",
            "2  train_Client_0   2015-03-23        11.0       1335667.0             0.0   \n",
            "3  train_Client_0   2015-07-13        11.0       1335667.0             0.0   \n",
            "4  train_Client_0   2016-11-17        11.0       1335667.0             0.0   \n",
            "5  train_Client_0   2017-07-17        11.0       1335667.0             0.0   \n",
            "6  train_Client_0   2018-12-07        11.0       1335667.0             0.0   \n",
            "7  train_Client_0   2019-03-19        11.0       1335667.0             0.0   \n",
            "8  train_Client_0   2011-07-22        11.0       1335667.0             0.0   \n",
            "9  train_Client_0   2011-11-22        11.0       1335667.0             0.0   \n",
            "\n",
            "   counter_code  reading_remarque  counter_coefficient  consommation_level_1  \\\n",
            "0         203.0               8.0                  1.0                  82.0   \n",
            "1         203.0               6.0                  1.0                1200.0   \n",
            "2         203.0               8.0                  1.0                 123.0   \n",
            "3         207.0               8.0                  1.0                 102.0   \n",
            "4         207.0               9.0                  1.0                 572.0   \n",
            "5         207.0               9.0                  1.0                 314.0   \n",
            "6         207.0               9.0                  1.0                 541.0   \n",
            "7         207.0               9.0                  1.0                 585.0   \n",
            "8         203.0               9.0                  1.0                1200.0   \n",
            "9         203.0               6.0                  1.0                1082.0   \n",
            "\n",
            "   consommation_level_2  consommation_level_3  consommation_level_4  \\\n",
            "0                   0.0                   0.0                   0.0   \n",
            "1                 184.0                   0.0                   0.0   \n",
            "2                   0.0                   0.0                   0.0   \n",
            "3                   0.0                   0.0                   0.0   \n",
            "4                   0.0                   0.0                   0.0   \n",
            "5                   0.0                   0.0                   0.0   \n",
            "6                   0.0                   0.0                   0.0   \n",
            "7                   0.0                   0.0                   0.0   \n",
            "8                 186.0                   0.0                   0.0   \n",
            "9                   0.0                   0.0                   0.0   \n",
            "\n",
            "   old_index  new_index  months_number counter_type  \n",
            "0    14302.0    14384.0            4.0         ELEC  \n",
            "1    12294.0    13678.0            4.0         ELEC  \n",
            "2    14624.0    14747.0            4.0         ELEC  \n",
            "3    14747.0    14849.0            4.0         ELEC  \n",
            "4    15066.0    15638.0           12.0         ELEC  \n",
            "5    15638.0    15952.0            8.0         ELEC  \n",
            "6    15952.0    16493.0           12.0         ELEC  \n",
            "7    16493.0    17078.0            8.0         ELEC  \n",
            "8     7770.0     9156.0            4.0         ELEC  \n",
            "9     9156.0    10238.0            4.0         ELEC  \n"
          ]
        }
      ],
      "source": [
        "import pandas as pd\n",
        "\n",
        "data = pd.read_csv('STEG_BILLING_HISTORY.csv')\n",
        "client_0_bills=(data.head(10))\n",
        "\n",
        "print(client_0_bills)\n"
      ]
    },
    {
      "cell_type": "code",
      "source": [
        "print(type(client_0_bills))"
      ],
      "metadata": {
        "colab": {
          "base_uri": "https://localhost:8080/"
        },
        "id": "2tjdR3Lo623H",
        "outputId": "90de1aa8-e7d1-4367-d590-51621a3ac129"
      },
      "execution_count": null,
      "outputs": [
        {
          "output_type": "stream",
          "name": "stdout",
          "text": [
            "<class 'pandas.core.frame.DataFrame'>\n"
          ]
        }
      ]
    },
    {
      "cell_type": "code",
      "source": [
        "import pandas as pd\n",
        "data = pd.read_csv('STEG_BILLING_HISTORY.csv')\n",
        "print(\"rows:\", data.shape[0])\n"
      ],
      "metadata": {
        "colab": {
          "base_uri": "https://localhost:8080/"
        },
        "id": "duDh0hUK964z",
        "outputId": "578cf16d-efcd-4a1f-f350-7e6c25383b52"
      },
      "execution_count": 10,
      "outputs": [
        {
          "output_type": "stream",
          "name": "stdout",
          "text": [
            "rows: 399255\n"
          ]
        }
      ]
    },
    {
      "cell_type": "code",
      "source": [
        "print(\"columns:\", data.shape[1])"
      ],
      "metadata": {
        "colab": {
          "base_uri": "https://localhost:8080/"
        },
        "id": "MbRFe83e4eGF",
        "outputId": "d32c7a80-d512-461c-94f3-2b704a81909a"
      },
      "execution_count": 13,
      "outputs": [
        {
          "output_type": "stream",
          "name": "stdout",
          "text": [
            "columns: 16\n"
          ]
        }
      ]
    },
    {
      "cell_type": "code",
      "source": [
        "print(\"categorical features:\", len(data.select_dtypes(include=['object', 'category'])))"
      ],
      "metadata": {
        "colab": {
          "base_uri": "https://localhost:8080/"
        },
        "id": "syba8G254n5d",
        "outputId": "86ae916a-498f-4086-b6d3-ef4df4052174"
      },
      "execution_count": 16,
      "outputs": [
        {
          "output_type": "stream",
          "name": "stdout",
          "text": [
            "categorical features: 399255\n"
          ]
        }
      ]
    },
    {
      "cell_type": "code",
      "source": [
        "print(\"Memory space:\", data.memory_usage(deep=True).sum())"
      ],
      "metadata": {
        "colab": {
          "base_uri": "https://localhost:8080/"
        },
        "id": "0KXqXxF445BK",
        "outputId": "3ff51109-ff67-4990-b802-986ae1d4c89d"
      },
      "execution_count": 21,
      "outputs": [
        {
          "output_type": "stream",
          "name": "stdout",
          "text": [
            "Memory space: 122801497\n"
          ]
        }
      ]
    },
    {
      "cell_type": "code",
      "source": [
        "print(\"Missing values:\", data.isnull().sum())"
      ],
      "metadata": {
        "colab": {
          "base_uri": "https://localhost:8080/"
        },
        "id": "Ed84d9V74_MJ",
        "outputId": "d0b5e196-72e6-4657-8df8-2ddffa2d2ec9"
      },
      "execution_count": 23,
      "outputs": [
        {
          "output_type": "stream",
          "name": "stdout",
          "text": [
            "Missing values: client_id                 0\n",
            "invoice_date              0\n",
            "tarif_type                0\n",
            "counter_number            4\n",
            "counter_statue            1\n",
            "counter_code              1\n",
            "reading_remarque        424\n",
            "counter_coefficient       1\n",
            "consommation_level_1      1\n",
            "consommation_level_2      1\n",
            "consommation_level_3      1\n",
            "consommation_level_4      1\n",
            "old_index                 1\n",
            "new_index                 1\n",
            "months_number             1\n",
            "counter_type              1\n",
            "dtype: int64\n"
          ]
        }
      ]
    },
    {
      "cell_type": "code",
      "source": [
        "print(data.describe(include='number'))"
      ],
      "metadata": {
        "colab": {
          "base_uri": "https://localhost:8080/"
        },
        "id": "6h386nE_5sxB",
        "outputId": "5b26327e-94bb-4012-cae3-706c2c1bd30a"
      },
      "execution_count": 25,
      "outputs": [
        {
          "output_type": "stream",
          "name": "stdout",
          "text": [
            "          tarif_type  counter_number  counter_statue   counter_code  \\\n",
            "count  399255.000000    3.992510e+05   399254.000000  399254.000000   \n",
            "mean       20.164161    1.117609e+11        0.041655     171.692396   \n",
            "std        13.476306    1.575058e+12        0.373646     133.347823   \n",
            "min         8.000000    0.000000e+00        0.000000       5.000000   \n",
            "25%        11.000000    1.225110e+05        0.000000       5.000000   \n",
            "50%        11.000000    4.964350e+05        0.000000     203.000000   \n",
            "75%        40.000000    1.132431e+06        0.000000     207.000000   \n",
            "max        45.000000    2.738110e+13        5.000000     600.000000   \n",
            "\n",
            "       reading_remarque  counter_coefficient  consommation_level_1  \\\n",
            "count     398831.000000        399254.000000         399254.000000   \n",
            "mean           7.310528             1.000020            403.143994   \n",
            "std            1.359502             0.014846            569.405421   \n",
            "min            6.000000             0.000000              0.000000   \n",
            "25%            6.000000             1.000000             78.000000   \n",
            "50%            6.000000             1.000000            269.000000   \n",
            "75%            9.000000             1.000000            598.000000   \n",
            "max            9.000000            10.000000          93385.000000   \n",
            "\n",
            "       consommation_level_2  consommation_level_3  consommation_level_4  \\\n",
            "count         399254.000000         399254.000000         399254.000000   \n",
            "mean             108.524075             20.296728             53.467670   \n",
            "std              895.411911            207.550350           1146.991786   \n",
            "min                0.000000              0.000000              0.000000   \n",
            "25%                0.000000              0.000000              0.000000   \n",
            "50%                0.000000              0.000000              0.000000   \n",
            "75%                0.000000              0.000000              0.000000   \n",
            "max           209952.000000          45360.000000         343568.000000   \n",
            "\n",
            "          old_index     new_index  months_number  \n",
            "count  3.992540e+05  3.992540e+05  399254.000000  \n",
            "mean   1.751553e+04  1.807171e+04      29.134649  \n",
            "std    4.338398e+04  4.399998e+04    1734.765962  \n",
            "min    0.000000e+00  0.000000e+00       1.000000  \n",
            "25%    1.752000e+03  2.019000e+03       4.000000  \n",
            "50%    7.473000e+03  7.968000e+03       4.000000  \n",
            "75%    2.126600e+04  2.193900e+04       4.000000  \n",
            "max    2.800280e+06  2.870972e+06  231602.000000  \n"
          ]
        }
      ]
    },
    {
      "cell_type": "code",
      "source": [
        "# loc method is for labels\n",
        "client_0_bills_loc = data.loc[data['client_id'] == 'train_Client_0']\n",
        "\n",
        "#iloc method is for integer location\n",
        "#client_0_bills_iloc = data.iloc[data['client_id'] == 'train_Client_0'].reset_index(drop=True)\n",
        "#print(client_0_bills_loc.equals(client_0_bills_iloc))"
      ],
      "metadata": {
        "id": "QTzlq2RI57kR"
      },
      "execution_count": 32,
      "outputs": []
    },
    {
      "cell_type": "code",
      "source": [
        "from sklearn.preprocessing import LabelEncoder\n",
        "encoder = LabelEncoder()\n",
        "data['counter_type_encoded'] = encoder.fit_transform(data['counter_type'])"
      ],
      "metadata": {
        "id": "mntUN3Qg7YWA"
      },
      "execution_count": 36,
      "outputs": []
    },
    {
      "cell_type": "code",
      "source": [
        "data.drop(columns=['counter_statue'], inplace=True)"
      ],
      "metadata": {
        "colab": {
          "base_uri": "https://localhost:8080/",
          "height": 321
        },
        "id": "GXcBzApx7q87",
        "outputId": "3e20f9c2-d267-4480-c484-e1c4db654c13"
      },
      "execution_count": 38,
      "outputs": [
        {
          "output_type": "error",
          "ename": "KeyError",
          "evalue": "ignored",
          "traceback": [
            "\u001b[0;31m---------------------------------------------------------------------------\u001b[0m",
            "\u001b[0;31mKeyError\u001b[0m                                  Traceback (most recent call last)",
            "\u001b[0;32m<ipython-input-38-8c7643f47f88>\u001b[0m in \u001b[0;36m<cell line: 1>\u001b[0;34m()\u001b[0m\n\u001b[0;32m----> 1\u001b[0;31m \u001b[0mdata\u001b[0m\u001b[0;34m.\u001b[0m\u001b[0mdrop\u001b[0m\u001b[0;34m(\u001b[0m\u001b[0mcolumns\u001b[0m\u001b[0;34m=\u001b[0m\u001b[0;34m[\u001b[0m\u001b[0;34m'counter_statue'\u001b[0m\u001b[0;34m]\u001b[0m\u001b[0;34m,\u001b[0m \u001b[0minplace\u001b[0m\u001b[0;34m=\u001b[0m\u001b[0;32mTrue\u001b[0m\u001b[0;34m)\u001b[0m\u001b[0;34m\u001b[0m\u001b[0;34m\u001b[0m\u001b[0m\n\u001b[0m",
            "\u001b[0;32m/usr/local/lib/python3.10/dist-packages/pandas/util/_decorators.py\u001b[0m in \u001b[0;36mwrapper\u001b[0;34m(*args, **kwargs)\u001b[0m\n\u001b[1;32m    329\u001b[0m                     \u001b[0mstacklevel\u001b[0m\u001b[0;34m=\u001b[0m\u001b[0mfind_stack_level\u001b[0m\u001b[0;34m(\u001b[0m\u001b[0;34m)\u001b[0m\u001b[0;34m,\u001b[0m\u001b[0;34m\u001b[0m\u001b[0;34m\u001b[0m\u001b[0m\n\u001b[1;32m    330\u001b[0m                 )\n\u001b[0;32m--> 331\u001b[0;31m             \u001b[0;32mreturn\u001b[0m \u001b[0mfunc\u001b[0m\u001b[0;34m(\u001b[0m\u001b[0;34m*\u001b[0m\u001b[0margs\u001b[0m\u001b[0;34m,\u001b[0m \u001b[0;34m**\u001b[0m\u001b[0mkwargs\u001b[0m\u001b[0;34m)\u001b[0m\u001b[0;34m\u001b[0m\u001b[0;34m\u001b[0m\u001b[0m\n\u001b[0m\u001b[1;32m    332\u001b[0m \u001b[0;34m\u001b[0m\u001b[0m\n\u001b[1;32m    333\u001b[0m         \u001b[0;31m# error: \"Callable[[VarArg(Any), KwArg(Any)], Any]\" has no\u001b[0m\u001b[0;34m\u001b[0m\u001b[0;34m\u001b[0m\u001b[0m\n",
            "\u001b[0;32m/usr/local/lib/python3.10/dist-packages/pandas/core/frame.py\u001b[0m in \u001b[0;36mdrop\u001b[0;34m(self, labels, axis, index, columns, level, inplace, errors)\u001b[0m\n\u001b[1;32m   5397\u001b[0m                 \u001b[0mweight\u001b[0m  \u001b[0;36m1.0\u001b[0m     \u001b[0;36m0.8\u001b[0m\u001b[0;34m\u001b[0m\u001b[0;34m\u001b[0m\u001b[0m\n\u001b[1;32m   5398\u001b[0m         \"\"\"\n\u001b[0;32m-> 5399\u001b[0;31m         return super().drop(\n\u001b[0m\u001b[1;32m   5400\u001b[0m             \u001b[0mlabels\u001b[0m\u001b[0;34m=\u001b[0m\u001b[0mlabels\u001b[0m\u001b[0;34m,\u001b[0m\u001b[0;34m\u001b[0m\u001b[0;34m\u001b[0m\u001b[0m\n\u001b[1;32m   5401\u001b[0m             \u001b[0maxis\u001b[0m\u001b[0;34m=\u001b[0m\u001b[0maxis\u001b[0m\u001b[0;34m,\u001b[0m\u001b[0;34m\u001b[0m\u001b[0;34m\u001b[0m\u001b[0m\n",
            "\u001b[0;32m/usr/local/lib/python3.10/dist-packages/pandas/util/_decorators.py\u001b[0m in \u001b[0;36mwrapper\u001b[0;34m(*args, **kwargs)\u001b[0m\n\u001b[1;32m    329\u001b[0m                     \u001b[0mstacklevel\u001b[0m\u001b[0;34m=\u001b[0m\u001b[0mfind_stack_level\u001b[0m\u001b[0;34m(\u001b[0m\u001b[0;34m)\u001b[0m\u001b[0;34m,\u001b[0m\u001b[0;34m\u001b[0m\u001b[0;34m\u001b[0m\u001b[0m\n\u001b[1;32m    330\u001b[0m                 )\n\u001b[0;32m--> 331\u001b[0;31m             \u001b[0;32mreturn\u001b[0m \u001b[0mfunc\u001b[0m\u001b[0;34m(\u001b[0m\u001b[0;34m*\u001b[0m\u001b[0margs\u001b[0m\u001b[0;34m,\u001b[0m \u001b[0;34m**\u001b[0m\u001b[0mkwargs\u001b[0m\u001b[0;34m)\u001b[0m\u001b[0;34m\u001b[0m\u001b[0;34m\u001b[0m\u001b[0m\n\u001b[0m\u001b[1;32m    332\u001b[0m \u001b[0;34m\u001b[0m\u001b[0m\n\u001b[1;32m    333\u001b[0m         \u001b[0;31m# error: \"Callable[[VarArg(Any), KwArg(Any)], Any]\" has no\u001b[0m\u001b[0;34m\u001b[0m\u001b[0;34m\u001b[0m\u001b[0m\n",
            "\u001b[0;32m/usr/local/lib/python3.10/dist-packages/pandas/core/generic.py\u001b[0m in \u001b[0;36mdrop\u001b[0;34m(self, labels, axis, index, columns, level, inplace, errors)\u001b[0m\n\u001b[1;32m   4503\u001b[0m         \u001b[0;32mfor\u001b[0m \u001b[0maxis\u001b[0m\u001b[0;34m,\u001b[0m \u001b[0mlabels\u001b[0m \u001b[0;32min\u001b[0m \u001b[0maxes\u001b[0m\u001b[0;34m.\u001b[0m\u001b[0mitems\u001b[0m\u001b[0;34m(\u001b[0m\u001b[0;34m)\u001b[0m\u001b[0;34m:\u001b[0m\u001b[0;34m\u001b[0m\u001b[0;34m\u001b[0m\u001b[0m\n\u001b[1;32m   4504\u001b[0m             \u001b[0;32mif\u001b[0m \u001b[0mlabels\u001b[0m \u001b[0;32mis\u001b[0m \u001b[0;32mnot\u001b[0m \u001b[0;32mNone\u001b[0m\u001b[0;34m:\u001b[0m\u001b[0;34m\u001b[0m\u001b[0;34m\u001b[0m\u001b[0m\n\u001b[0;32m-> 4505\u001b[0;31m                 \u001b[0mobj\u001b[0m \u001b[0;34m=\u001b[0m \u001b[0mobj\u001b[0m\u001b[0;34m.\u001b[0m\u001b[0m_drop_axis\u001b[0m\u001b[0;34m(\u001b[0m\u001b[0mlabels\u001b[0m\u001b[0;34m,\u001b[0m \u001b[0maxis\u001b[0m\u001b[0;34m,\u001b[0m \u001b[0mlevel\u001b[0m\u001b[0;34m=\u001b[0m\u001b[0mlevel\u001b[0m\u001b[0;34m,\u001b[0m \u001b[0merrors\u001b[0m\u001b[0;34m=\u001b[0m\u001b[0merrors\u001b[0m\u001b[0;34m)\u001b[0m\u001b[0;34m\u001b[0m\u001b[0;34m\u001b[0m\u001b[0m\n\u001b[0m\u001b[1;32m   4506\u001b[0m \u001b[0;34m\u001b[0m\u001b[0m\n\u001b[1;32m   4507\u001b[0m         \u001b[0;32mif\u001b[0m \u001b[0minplace\u001b[0m\u001b[0;34m:\u001b[0m\u001b[0;34m\u001b[0m\u001b[0;34m\u001b[0m\u001b[0m\n",
            "\u001b[0;32m/usr/local/lib/python3.10/dist-packages/pandas/core/generic.py\u001b[0m in \u001b[0;36m_drop_axis\u001b[0;34m(self, labels, axis, level, errors, only_slice)\u001b[0m\n\u001b[1;32m   4544\u001b[0m                 \u001b[0mnew_axis\u001b[0m \u001b[0;34m=\u001b[0m \u001b[0maxis\u001b[0m\u001b[0;34m.\u001b[0m\u001b[0mdrop\u001b[0m\u001b[0;34m(\u001b[0m\u001b[0mlabels\u001b[0m\u001b[0;34m,\u001b[0m \u001b[0mlevel\u001b[0m\u001b[0;34m=\u001b[0m\u001b[0mlevel\u001b[0m\u001b[0;34m,\u001b[0m \u001b[0merrors\u001b[0m\u001b[0;34m=\u001b[0m\u001b[0merrors\u001b[0m\u001b[0;34m)\u001b[0m\u001b[0;34m\u001b[0m\u001b[0;34m\u001b[0m\u001b[0m\n\u001b[1;32m   4545\u001b[0m             \u001b[0;32melse\u001b[0m\u001b[0;34m:\u001b[0m\u001b[0;34m\u001b[0m\u001b[0;34m\u001b[0m\u001b[0m\n\u001b[0;32m-> 4546\u001b[0;31m                 \u001b[0mnew_axis\u001b[0m \u001b[0;34m=\u001b[0m \u001b[0maxis\u001b[0m\u001b[0;34m.\u001b[0m\u001b[0mdrop\u001b[0m\u001b[0;34m(\u001b[0m\u001b[0mlabels\u001b[0m\u001b[0;34m,\u001b[0m \u001b[0merrors\u001b[0m\u001b[0;34m=\u001b[0m\u001b[0merrors\u001b[0m\u001b[0;34m)\u001b[0m\u001b[0;34m\u001b[0m\u001b[0;34m\u001b[0m\u001b[0m\n\u001b[0m\u001b[1;32m   4547\u001b[0m             \u001b[0mindexer\u001b[0m \u001b[0;34m=\u001b[0m \u001b[0maxis\u001b[0m\u001b[0;34m.\u001b[0m\u001b[0mget_indexer\u001b[0m\u001b[0;34m(\u001b[0m\u001b[0mnew_axis\u001b[0m\u001b[0;34m)\u001b[0m\u001b[0;34m\u001b[0m\u001b[0;34m\u001b[0m\u001b[0m\n\u001b[1;32m   4548\u001b[0m \u001b[0;34m\u001b[0m\u001b[0m\n",
            "\u001b[0;32m/usr/local/lib/python3.10/dist-packages/pandas/core/indexes/base.py\u001b[0m in \u001b[0;36mdrop\u001b[0;34m(self, labels, errors)\u001b[0m\n\u001b[1;32m   6932\u001b[0m         \u001b[0;32mif\u001b[0m \u001b[0mmask\u001b[0m\u001b[0;34m.\u001b[0m\u001b[0many\u001b[0m\u001b[0;34m(\u001b[0m\u001b[0;34m)\u001b[0m\u001b[0;34m:\u001b[0m\u001b[0;34m\u001b[0m\u001b[0;34m\u001b[0m\u001b[0m\n\u001b[1;32m   6933\u001b[0m             \u001b[0;32mif\u001b[0m \u001b[0merrors\u001b[0m \u001b[0;34m!=\u001b[0m \u001b[0;34m\"ignore\"\u001b[0m\u001b[0;34m:\u001b[0m\u001b[0;34m\u001b[0m\u001b[0;34m\u001b[0m\u001b[0m\n\u001b[0;32m-> 6934\u001b[0;31m                 \u001b[0;32mraise\u001b[0m \u001b[0mKeyError\u001b[0m\u001b[0;34m(\u001b[0m\u001b[0;34mf\"{list(labels[mask])} not found in axis\"\u001b[0m\u001b[0;34m)\u001b[0m\u001b[0;34m\u001b[0m\u001b[0;34m\u001b[0m\u001b[0m\n\u001b[0m\u001b[1;32m   6935\u001b[0m             \u001b[0mindexer\u001b[0m \u001b[0;34m=\u001b[0m \u001b[0mindexer\u001b[0m\u001b[0;34m[\u001b[0m\u001b[0;34m~\u001b[0m\u001b[0mmask\u001b[0m\u001b[0;34m]\u001b[0m\u001b[0;34m\u001b[0m\u001b[0;34m\u001b[0m\u001b[0m\n\u001b[1;32m   6936\u001b[0m         \u001b[0;32mreturn\u001b[0m \u001b[0mself\u001b[0m\u001b[0;34m.\u001b[0m\u001b[0mdelete\u001b[0m\u001b[0;34m(\u001b[0m\u001b[0mindexer\u001b[0m\u001b[0;34m)\u001b[0m\u001b[0;34m\u001b[0m\u001b[0;34m\u001b[0m\u001b[0m\n",
            "\u001b[0;31mKeyError\u001b[0m: \"['counter_statue'] not found in axis\""
          ]
        }
      ]
    }
  ]
}