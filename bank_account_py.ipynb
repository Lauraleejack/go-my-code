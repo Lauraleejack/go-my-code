{
  "nbformat": 4,
  "nbformat_minor": 0,
  "metadata": {
    "colab": {
      "provenance": [],
      "authorship_tag": "ABX9TyOYzRlJ1cjfg7gZadyiU3pf",
      "include_colab_link": true
    },
    "kernelspec": {
      "name": "python3",
      "display_name": "Python 3"
    },
    "language_info": {
      "name": "python"
    }
  },
  "cells": [
    {
      "cell_type": "markdown",
      "metadata": {
        "id": "view-in-github",
        "colab_type": "text"
      },
      "source": [
        "<a href=\"https://colab.research.google.com/github/Lauraleejack/go-my-code/blob/main/bank_account_py.ipynb\" target=\"_parent\"><img src=\"https://colab.research.google.com/assets/colab-badge.svg\" alt=\"Open In Colab\"/></a>"
      ]
    },
    {
      "cell_type": "code",
      "source": [
        "#a program designed for a bank account\n",
        "import random\n",
        "\n",
        "class Account:\n",
        "    def __init__(self):\n",
        "        self.account_number = str(random.randint(1, 200))\n",
        "        self.account_balance = 0\n",
        "        self.account_holder = \"\"\n",
        "      #to deposit\n",
        "    def deposit(self, amount: float):\n",
        "        if amount > 0:\n",
        "            self.account_balance += amount\n",
        "            print(\"Successfully deposited\", amount, \"into account\", self.account_number)\n",
        "        else:\n",
        "            print(\"Invalid deposit amount\")\n",
        "      #to withdraw\n",
        "    def withdraw(self, amount: float):\n",
        "        if self.account_balance >= amount:\n",
        "            self.account_balance -= amount\n",
        "            print(\"Successfully withdrawn\", amount, \"from account\", self.account_number)\n",
        "        else:\n",
        "            print(\"Insufficient funds\")\n",
        "    #to see the balance\n",
        "    def check_balance(self):\n",
        "        print(\"Account balance:\", self.account_balance)\n",
        "\n",
        "# an instance for the variable\n",
        "my_account = Account()\n",
        "\n",
        "# withdraw and deposit\n",
        "my_account.deposit(100)\n",
        "my_account.check_balance()\n",
        "my_account.withdraw(50)\n",
        "my_account.check_balance()"
      ],
      "metadata": {
        "colab": {
          "base_uri": "https://localhost:8080/"
        },
        "id": "NydXM29MNBcd",
        "outputId": "90d2942c-6659-4c15-8e11-ed5301cffb6c"
      },
      "execution_count": 13,
      "outputs": [
        {
          "output_type": "stream",
          "name": "stdout",
          "text": [
            "Successfully deposited 100 into account 137\n",
            "Account balance: 100\n",
            "Successfully withdrawn 50 from account 137\n",
            "Account balance: 50\n"
          ]
        }
      ]
    }
  ]
}