{
  "nbformat": 4,
  "nbformat_minor": 0,
  "metadata": {
    "colab": {
      "provenance": [],
      "authorship_tag": "ABX9TyPNRyHSyszy6ZG6y3yRjzQq",
      "include_colab_link": true
    },
    "kernelspec": {
      "name": "python3",
      "display_name": "Python 3"
    },
    "language_info": {
      "name": "python"
    }
  },
  "cells": [
    {
      "cell_type": "markdown",
      "metadata": {
        "id": "view-in-github",
        "colab_type": "text"
      },
      "source": [
        "<a href=\"https://colab.research.google.com/github/Lauraleejack/go-my-code/blob/main/pizza.ipynb\" target=\"_parent\"><img src=\"https://colab.research.google.com/assets/colab-badge.svg\" alt=\"Open In Colab\"/></a>"
      ]
    },
    {
      "cell_type": "markdown",
      "source": [
        "\n",
        "if extra_cheese == \"Y\":\n",
        "  extra_cheese= 1\n",
        "else:\n",
        "  extra_cheese = 0\n",
        "\n",
        "elif sizes == \"L\" and add_pepperoni == \"Y\":\n",
        "  pepperoni_price = 3\n",
        "elif sizes == \"M\" and add_pepperoni == \"Y\":\n",
        "  pepperoni_price = 3\n",
        "elif sizes == \"L\" and extra_cheese == \"Y\":\n",
        "  extra_cheese = 3\n",
        "print(sizes)\n",
        "elif sizes == \"S\" and extra_cheese == \"Y\":\n",
        "  extra_cheese = 1"
      ],
      "metadata": {
        "id": "M7OdIilM7uCA"
      }
    },
    {
      "cell_type": "code",
      "execution_count": 9,
      "metadata": {
        "colab": {
          "base_uri": "https://localhost:8080/"
        },
        "id": "rLrKLipiClJF",
        "outputId": "0c689928-db8f-450b-cac0-2e556cf1bde6"
      },
      "outputs": [
        {
          "output_type": "stream",
          "name": "stdout",
          "text": [
            "Welcome to Python Pizza Deliveries!\n",
            "What size pizza would you like? (small, medium, large): L\n",
            "Would you like pepperoni on your pizza? (y/n): N\n",
            "Would you like extra cheese on your pizza? (y/n): Y\n",
            "26\n"
          ]
        }
      ],
      "source": [
        "print(\"Welcome to Python Pizza Deliveries!\")\n",
        "sizes = input(\"What sizes pizza would you like? (small, medium, large): \")\n",
        "add_pepperoni = input(\"Would you like pepperoni on your pizza? (Y/N): \")\n",
        "extra_cheese = input(\"Would you like extra cheese on your pizza? (Y/N): \")\n",
        "if sizes ==\"S\":\n",
        "  pizza_price = 15\n",
        "elif sizes == \"M\":\n",
        "  pizza_price = 20\n",
        "elif sizes == \"L\":\n",
        "  pizza_price = 25\n",
        "else:\n",
        "  pizza_price=0\n",
        "\n",
        "if add_pepperoni == \"Y\":\n",
        "  if sizes == \"S\":\n",
        "    pepperoni_price = 2\n",
        "  else:\n",
        "    pepperoni_price = 3\n",
        "else:\n",
        "  pepperoni_price = 0\n",
        "\n",
        "if extra_cheese==\"Y\":\n",
        "  cheese_price=1\n",
        "else:\n",
        "  cheese_price=0\n",
        "\n",
        "total_value=(pizza_price+pepperoni_price+cheese_price)\n",
        "print(total_value)"
      ]
    },
    {
      "cell_type": "code",
      "source": [],
      "metadata": {
        "id": "OKBYJSbQDUp3"
      },
      "execution_count": null,
      "outputs": []
    },
    {
      "cell_type": "code",
      "source": [],
      "metadata": {
        "id": "4gleIpkQDtSg"
      },
      "execution_count": null,
      "outputs": []
    },
    {
      "cell_type": "code",
      "source": [
        "\n",
        "\n",
        "\n",
        "if sizes ==\"S\":\n",
        "  pizza_price = 15\n",
        "elif sizes == \"M\":\n",
        "  pizza_price = 20\n",
        "elif sizes == \"L\":\n",
        "  pizza_price = 25\n",
        "\n",
        "\n",
        "if add_pepperoni == \"Y\":\n",
        "  if sizes == \"S\":\n",
        "    pepperoni_price = 2\n",
        "  else:\n",
        "    pepperoni_price = 3\n",
        "else:\n",
        "  pepperoni_price = 0\n",
        "\n",
        "if extra_cheese==\"Y\":\n",
        "  cheese_price=1\n",
        "else:\n",
        "  cheese_price=0\n",
        "\n",
        "total_value=(pizza_price+pepperoni_price+extra_cheese)\n",
        "print(total_value)\n",
        "\n"
      ],
      "metadata": {
        "id": "zm6eX7klEUUL",
        "colab": {
          "base_uri": "https://localhost:8080/",
          "height": 262
        },
        "outputId": "9bb07a82-a53b-44bb-99c4-d9f9a519dee2"
      },
      "execution_count": 2,
      "outputs": [
        {
          "name": "stdout",
          "output_type": "stream",
          "text": [
            "Would you like extra cheese on your pizza? (y/n): y\n"
          ]
        },
        {
          "output_type": "error",
          "ename": "NameError",
          "evalue": "ignored",
          "traceback": [
            "\u001b[0;31m---------------------------------------------------------------------------\u001b[0m",
            "\u001b[0;31mNameError\u001b[0m                                 Traceback (most recent call last)",
            "\u001b[0;32m<ipython-input-2-f54fb46c9acb>\u001b[0m in \u001b[0;36m<cell line: 4>\u001b[0;34m()\u001b[0m\n\u001b[1;32m      2\u001b[0m \u001b[0;34m\u001b[0m\u001b[0m\n\u001b[1;32m      3\u001b[0m \u001b[0;34m\u001b[0m\u001b[0m\n\u001b[0;32m----> 4\u001b[0;31m \u001b[0;32mif\u001b[0m \u001b[0msize\u001b[0m \u001b[0;34m==\u001b[0m\u001b[0;34m\"S\"\u001b[0m\u001b[0;34m:\u001b[0m\u001b[0;34m\u001b[0m\u001b[0;34m\u001b[0m\u001b[0m\n\u001b[0m\u001b[1;32m      5\u001b[0m   \u001b[0mpizza_price\u001b[0m \u001b[0;34m=\u001b[0m \u001b[0;36m15\u001b[0m\u001b[0;34m\u001b[0m\u001b[0;34m\u001b[0m\u001b[0m\n\u001b[1;32m      6\u001b[0m \u001b[0;32melif\u001b[0m \u001b[0msize\u001b[0m \u001b[0;34m==\u001b[0m \u001b[0;34m\"M\"\u001b[0m\u001b[0;34m:\u001b[0m\u001b[0;34m\u001b[0m\u001b[0;34m\u001b[0m\u001b[0m\n",
            "\u001b[0;31mNameError\u001b[0m: name 'size' is not defined"
          ]
        }
      ]
    },
    {
      "cell_type": "code",
      "source": [],
      "metadata": {
        "id": "AFHKFiGN7q4z"
      },
      "execution_count": null,
      "outputs": []
    }
  ]
}