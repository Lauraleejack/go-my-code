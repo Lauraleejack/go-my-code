{
  "nbformat": 4,
  "nbformat_minor": 0,
  "metadata": {
    "colab": {
      "provenance": [],
      "authorship_tag": "ABX9TyN4F4kuNBCpw/vgouG7/4RL",
      "include_colab_link": true
    },
    "kernelspec": {
      "name": "python3",
      "display_name": "Python 3"
    },
    "language_info": {
      "name": "python"
    }
  },
  "cells": [
    {
      "cell_type": "markdown",
      "metadata": {
        "id": "view-in-github",
        "colab_type": "text"
      },
      "source": [
        "<a href=\"https://colab.research.google.com/github/Lauraleejack/go-my-code/blob/main/pandas.ipynb\" target=\"_parent\"><img src=\"https://colab.research.google.com/assets/colab-badge.svg\" alt=\"Open In Colab\"/></a>"
      ]
    },
    {
      "cell_type": "markdown",
      "source": [
        "here are some useful codes on how we use pandas python library\n"
      ],
      "metadata": {
        "id": "UXEgYyau0M91"
      }
    },
    {
      "cell_type": "markdown",
      "source": [],
      "metadata": {
        "id": "xVD5ltPZ0M7C"
      }
    },
    {
      "cell_type": "code",
      "execution_count": 4,
      "metadata": {
        "colab": {
          "base_uri": "https://localhost:8080/"
        },
        "id": "IUBxGQvUwNvv",
        "outputId": "f6526608-18e6-45f8-e2dd-d3baee549f83"
      },
      "outputs": [
        {
          "output_type": "stream",
          "name": "stdout",
          "text": [
            "Requirement already satisfied: pandas in /usr/local/lib/python3.10/dist-packages (1.5.3)\n",
            "Requirement already satisfied: python-dateutil>=2.8.1 in /usr/local/lib/python3.10/dist-packages (from pandas) (2.8.2)\n",
            "Requirement already satisfied: pytz>=2020.1 in /usr/local/lib/python3.10/dist-packages (from pandas) (2023.3.post1)\n",
            "Requirement already satisfied: numpy>=1.21.0 in /usr/local/lib/python3.10/dist-packages (from pandas) (1.23.5)\n",
            "Requirement already satisfied: six>=1.5 in /usr/local/lib/python3.10/dist-packages (from python-dateutil>=2.8.1->pandas) (1.16.0)\n",
            "pink     20\n",
            "white    15\n",
            "black     6\n",
            "blue     43\n",
            "dtype: int64\n"
          ]
        }
      ],
      "source": [
        "!pip install pandas\n",
        "import pandas as pd\n",
        "color=[\"pink\", \"white\", \"black\", \"blue\"]\n",
        "occurence = [20, 15, 6, 43]\n",
        "S=pd.Series(occurence, index=color)\n",
        "print(S)"
      ]
    },
    {
      "cell_type": "code",
      "source": [
        "import pandas as pd\n",
        "color=[\"pink\", \"white\", \"black\", \"blue\"]\n",
        "S1=pd.Series([20, 15, 6, 43], index=color)\n",
        "S2=pd.Series([3, 22, 9, 10], index=color)\n",
        "print(S1+S2)"
      ],
      "metadata": {
        "colab": {
          "base_uri": "https://localhost:8080/"
        },
        "id": "x_1XSX5rxwy1",
        "outputId": "b750ee09-52ab-47aa-91a1-be3682cd61a4"
      },
      "execution_count": 6,
      "outputs": [
        {
          "output_type": "stream",
          "name": "stdout",
          "text": [
            "pink     23\n",
            "white    37\n",
            "black    15\n",
            "blue     53\n",
            "dtype: int64\n"
          ]
        }
      ]
    },
    {
      "cell_type": "code",
      "source": [
        "data = {\"ProductName\": [\"Product 1\", \"Product 2\", \"Product 3\"], \"ProductPrice\": [10, 20, 30]}\n",
        "df1 = pd.DataFrame(data)\n",
        "print(df1)"
      ],
      "metadata": {
        "colab": {
          "base_uri": "https://localhost:8080/"
        },
        "id": "HO_qElSnydk4",
        "outputId": "2fa769b8-ebd4-492c-db6c-548d049a5da1"
      },
      "execution_count": 8,
      "outputs": [
        {
          "output_type": "stream",
          "name": "stdout",
          "text": [
            "  ProductName  ProductPrice\n",
            "0   Product 1            10\n",
            "1   Product 2            20\n",
            "2   Product 3            30\n"
          ]
        }
      ]
    },
    {
      "cell_type": "code",
      "source": [
        "#2: Construct a DataFrame from a dictionary of lists + specify an index\n",
        "data = {\"ProductName\": [\"Product 1\", \"Product 2\", \"Product 3\"], \"ProductPrice\": [10, 20, 30]}\n",
        "df2 = pd.DataFrame(data, index=['A', 'B', 'C'])\n",
        "print(df2)"
      ],
      "metadata": {
        "colab": {
          "base_uri": "https://localhost:8080/"
        },
        "id": "JZAOzMY7zC9X",
        "outputId": "56674bcb-be15-4c14-f981-d1628c17eeaa"
      },
      "execution_count": 10,
      "outputs": [
        {
          "output_type": "stream",
          "name": "stdout",
          "text": [
            "  ProductName  ProductPrice\n",
            "A   Product 1            10\n",
            "B   Product 2            20\n",
            "C   Product 3            30\n"
          ]
        }
      ]
    },
    {
      "cell_type": "code",
      "source": [
        "data = [{\"ProductName\": \"Product 1\", \"ProductPrice\": 10},\n",
        "        {\"ProductName\": \"Product 2\", \"ProductPrice\": 20},\n",
        "        {\"ProductName\": \"Product 3\", \"ProductPrice\": 30}]\n",
        "df3 = pd.DataFrame(data)\n",
        "print(df3)"
      ],
      "metadata": {
        "colab": {
          "base_uri": "https://localhost:8080/"
        },
        "id": "brBzzRdKzSEK",
        "outputId": "9a36ffaf-d617-4f72-f73a-4c81d7d51424"
      },
      "execution_count": 12,
      "outputs": [
        {
          "output_type": "stream",
          "name": "stdout",
          "text": [
            "  ProductName  ProductPrice\n",
            "0   Product 1            10\n",
            "1   Product 2            20\n",
            "2   Product 3            30\n"
          ]
        }
      ]
    },
    {
      "cell_type": "code",
      "source": [
        "product_name = pd.Series([\"Product 1\", \"Product 2\", \"Product 3\"])\n",
        "product_price = pd.Series([10, 20, 30])\n",
        "data = {\"ProductName\": product_name, \"ProductPrice\": product_price}\n",
        "df4 = pd.DataFrame(data)\n",
        "print(df4)"
      ],
      "metadata": {
        "colab": {
          "base_uri": "https://localhost:8080/"
        },
        "id": "UVA6EYFhzptT",
        "outputId": "e32500f0-c2a1-4dab-8ac5-887da8952093"
      },
      "execution_count": 14,
      "outputs": [
        {
          "output_type": "stream",
          "name": "stdout",
          "text": [
            "  ProductName  ProductPrice\n",
            "0   Product 1            10\n",
            "1   Product 2            20\n",
            "2   Product 3            30\n"
          ]
        }
      ]
    },
    {
      "cell_type": "code",
      "source": [
        "#Construct a DataFrame from a list of lists\n",
        "data = [['Product 1', 10], ['Product 2', 20], ['Product 3', 30]]\n",
        "df5 = pd.DataFrame(data, columns=['ProductName', 'ProductPrice'])\n",
        "print(df5)"
      ],
      "metadata": {
        "colab": {
          "base_uri": "https://localhost:8080/"
        },
        "id": "wQAvJn79z3Kw",
        "outputId": "48a1ffd2-d583-45f7-ec2f-a8905e9930f9"
      },
      "execution_count": 15,
      "outputs": [
        {
          "output_type": "stream",
          "name": "stdout",
          "text": [
            "  ProductName  ProductPrice\n",
            "0   Product 1            10\n",
            "1   Product 2            20\n",
            "2   Product 3            30\n"
          ]
        }
      ]
    }
  ]
}