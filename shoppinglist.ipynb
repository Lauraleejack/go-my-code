{
  "nbformat": 4,
  "nbformat_minor": 0,
  "metadata": {
    "colab": {
      "provenance": [],
      "authorship_tag": "ABX9TyN/TylyNdPP3KDAb7yjEAod",
      "include_colab_link": true
    },
    "kernelspec": {
      "name": "python3",
      "display_name": "Python 3"
    },
    "language_info": {
      "name": "python"
    }
  },
  "cells": [
    {
      "cell_type": "markdown",
      "metadata": {
        "id": "view-in-github",
        "colab_type": "text"
      },
      "source": [
        "<a href=\"https://colab.research.google.com/github/Lauraleejack/go-my-code/blob/main/shoppinglist.ipynb\" target=\"_parent\"><img src=\"https://colab.research.google.com/assets/colab-badge.svg\" alt=\"Open In Colab\"/></a>"
      ]
    },
    {
      "cell_type": "code",
      "execution_count": null,
      "metadata": {
        "id": "2l9oNSy-EpYd"
      },
      "outputs": [],
      "source": [
        "shopping_list = []\n",
        "\n",
        "while True:\n",
        "  choice = int(input('menu'))\n",
        "  if choice == 1:\n",
        "    item = input(\"Enter the item to add: \")\n",
        "    shopping_list.append(item)\n",
        "  elif choice == 2:\n",
        "    item = input(\"Enter the item to remove: \")\n",
        "    shopping_list.remove(item)\n",
        "  elif choice == 3:\n",
        "    print(\"Shopping list:\")\n",
        "    for item in shopping_list:\n",
        "      print(item)\n",
        "  else:\n",
        "    print(\"Invalid choice. Must enter 1 , 2 or 3\")\n",
        "    again = input(\"Would you like to make another selection? (y/n) \")\n",
        "    if again != \"y\":\n",
        "        break\n",
        "\n",
        "shopping_list = [\"apple\", \"banana\", \"orange\"]\n",
        "shopping_list.append(\"pear\")\n",
        "num_items = len(shopping_list)\n",
        "print(shopping_list)\n",
        "\n",
        "shopping_tuple = (\"apple\", \"banana\", \"orange\")\n",
        "first_item = shopping_tuple[0]\n",
        "print(shopping_tuple)\n",
        "\n",
        "shopping_dict = {\n",
        "    \"apple\": 1,\n",
        "    \"banana\": 2,\n",
        "    \"orange\": 3\n",
        "}\n",
        "quantity = shopping_dict[\"apple\"]\n",
        "print(shopping_dict)\n",
        "\n",
        "shopping_set = {\"apple\", \"banana\", \"orange\"}\n",
        "shopping_set.remove(\"orange\")\n",
        "print(shopping_set)\n",
        "\n",
        "\n",
        "\n"
      ]
    },
    {
      "cell_type": "code",
      "source": [],
      "metadata": {
        "id": "fGoX8ouWKVPr"
      },
      "execution_count": null,
      "outputs": []
    }
  ]
}