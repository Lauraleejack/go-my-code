{
  "cells": [
    {
      "cell_type": "markdown",
      "metadata": {
        "id": "view-in-github",
        "colab_type": "text"
      },
      "source": [
        "<a href=\"https://colab.research.google.com/github/Lauraleejack/go-my-code/blob/main/calculator_2_0_py.ipynb\" target=\"_parent\"><img src=\"https://colab.research.google.com/assets/colab-badge.svg\" alt=\"Open In Colab\"/></a>"
      ]
    },
    {
      "cell_type": "markdown",
      "source": [
        "Create a new file called \"calculator_2.0.py\"\n",
        "Create a class called \"Calculator\" that contains the following:\n",
        "A dictionary attribute to store the available mathematical operations and their corresponding functions\n",
        "A method called \"init\" that initializes the dictionary with the basic mathematical operations (+, -, *, /) and corresponding functions\n",
        "A method called \"add_operation\" that takes in two arguments: the operation symbol and the corresponding function. This method should add the new operation and function to the dictionary.\n",
        "A method called \"calculate\" that takes in three arguments: the first number, the operation symbol, and the second number. This method should use the dictionary to determine the appropriate function to perform the calculation. It should also include error handling to check if the operation symbol is valid and if the input values are numbers. If an error is encountered, the method should print an error message and raise an exception.\n",
        "Create separate functions for the advanced mathematical operations (exponentiation, square root, logarithm) and use the \"add_operation\" method to add them to the calculator's dictionary.\n",
        "In the main program, create an instance of the Calculator class, and use a while loop that allows the user to continue performing calculations until they choose to exit.\n",
        "Use the input() function to get input from the user for the numbers and operation symbol.Use the math library for advanced mathematical operations\n",
        "Use the isinstance() function to check if the input is a number."
      ],
      "metadata": {
        "id": "HbDad4k404UD"
      }
    },
    {
      "cell_type": "code",
      "execution_count": null,
      "metadata": {
        "id": "XEfdkl2jgXyj"
      },
      "outputs": [],
      "source": [
        "import math\n",
        "class Calculator:\n",
        "      def __init__(self):\n",
        "        self.operations = {\n",
        "        \"+\": add,\n",
        "        \"-\": subtract,\n",
        "        \"*\": multiply,\n",
        "        \"/\": divide\n",
        "      }\n",
        "\n",
        "      def add(num1, num2):\n",
        "              return num1 + num2\n",
        "\n",
        "      def subtract(num1, num2):\n",
        "              return num1 - num2\n",
        "\n",
        "      def multiply(num1, num2):\n",
        "              return num1 * num2\n",
        "\n",
        "      def divide(num1, num2):\n",
        "              return num1 / num2\n",
        "\n",
        "\n",
        "\n",
        "      def add_operation(self, symbol, function):\n",
        "        self.operations[symbol] = function\n",
        "\n",
        "      def calculate(self, num1, symbol, num2):\n",
        "          if symbol not in self.operations:\n",
        "              raise ValueError(f\"Invalid operation: {symbol}\")\n",
        "\n",
        "          if not isinstance(num1, (int, float)):\n",
        "              raise TypeError(f\"Invalid operand: {num1}\")\n",
        "\n",
        "          if not isinstance(num2, (int, float)):\n",
        "              raise TypeError(f\"Invalid operand: {num2}\")\n",
        "          answer = self.operation[symbol](num1, num2)\n",
        "          print(answer)\n",
        "          while True:\n",
        "            choice=input(\"input your operation (1/2/3/4):\")\n",
        "\n",
        "            if choice in ('1','2','3','4'):\n",
        "              try:\n",
        "                num1=float(input(\"enter first number:\"))\n",
        "                num2=float(input(\"enter second number:\"))\n",
        "              except ValueError:\n",
        "                print(\"invalid number\")\n",
        "                continue\n",
        "\n",
        "            if choice=='1':\n",
        "              print(num1,\"+\",num2,\"=\",add(num1,num2))\n",
        "            elif choice=='2':\n",
        "              print(num1,\"-\",num2,\"=\",subtract(num1,num2))\n",
        "            elif choice=='3':\n",
        "              print(num1,\"*\",num2,\"=\",multiply(num1,num2))\n",
        "            elif choice=='4':\n",
        "              print(num1,\"/\",num2,\"=\",divide(num1,num2))\n",
        "\n",
        "            next_calc=input(\"would you like to calculate again?(yes/no):\")\n",
        "            if next_calc==\"no\":\n",
        "              break\n",
        "          else:\n",
        "              print(\"invalid\")\n",
        "\n",
        "          return self.operations[symbol](num1, num2)\n",
        "\n",
        "          print(\"select operation\")\n",
        "          print(\"1.add\")\n",
        "          print(\"2.subtract\")\n",
        "          print(\"3.multiply\")\n",
        "          print(\"4.divide\")\n",
        "\n",
        "\n"
      ]
    },
    {
      "cell_type": "code",
      "execution_count": null,
      "metadata": {
        "id": "S3wf0215qxxF"
      },
      "outputs": [],
      "source": [
        "def power(num1, num2):\n",
        "  return num1** num2\n",
        "\n",
        "def sqrt(num1):\n",
        " return math.sqrt(num1)\n",
        "\n",
        "def log(num1):\n",
        " return math.log(num2)"
      ]
    },
    {
      "cell_type": "code",
      "execution_count": null,
      "metadata": {
        "colab": {
          "background_save": true
        },
        "id": "Zv5Ekkfu52u5"
      },
      "outputs": [],
      "source": [
        "my_calc=Calculator()"
      ]
    },
    {
      "cell_type": "code",
      "execution_count": null,
      "metadata": {
        "colab": {
          "background_save": true,
          "base_uri": "https://localhost:8080/",
          "height": 175
        },
        "id": "UwduoF0r57YQ",
        "outputId": "75c39f95-bdeb-46c1-a590-e2bc39fd92b7"
      },
      "outputs": [
        {
          "name": "stdout",
          "output_type": "stream",
          "text": [
            "10\n",
            "4.0 ** 4.0 = 256.0\n",
            "2.0 ** 2.0 = 4.0\n"
          ]
        }
      ],
      "source": [
        "my_calc.calculate(3, \"+\", 7)"
      ]
    },
    {
      "cell_type": "code",
      "execution_count": null,
      "metadata": {
        "id": "kGkuRlG26FwM"
      },
      "outputs": [],
      "source": []
    }
  ],
  "metadata": {
    "colab": {
      "provenance": [],
      "authorship_tag": "ABX9TyPc8hQwqanApqcLvEPAzdQz",
      "include_colab_link": true
    },
    "kernelspec": {
      "display_name": "Python 3",
      "name": "python3"
    },
    "language_info": {
      "name": "python"
    }
  },
  "nbformat": 4,
  "nbformat_minor": 0
}